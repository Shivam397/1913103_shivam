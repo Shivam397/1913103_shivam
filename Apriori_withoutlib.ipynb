{
  "cells": [
    {
      "cell_type": "code",
      "execution_count": 1,
      "metadata": {
        "colab": {
          "base_uri": "https://localhost:8080/"
        },
        "id": "RPp3UlpCumak",
        "outputId": "1629d261-57c4-4252-a3d4-d9d3bd75f473"
      },
      "outputs": [
        {
          "name": "stdout",
          "output_type": "stream",
          "text": [
            "['I1', 'I2', 'I3', 'I4', 'I5']\n",
            "C1:\n",
            "['I1']: 6\n",
            "['I2']: 7\n",
            "['I3']: 6\n",
            "['I4']: 2\n",
            "['I5']: 2\n",
            "\n",
            "L1:\n",
            "['I1']: 6\n",
            "['I2']: 7\n",
            "['I3']: 6\n",
            "\n",
            "C2:\n",
            "['I1', 'I2']: 4\n",
            "['I3', 'I1']: 4\n",
            "['I3', 'I2']: 4\n",
            "\n",
            "L2:\n",
            "['I1', 'I2']: 4\n",
            "['I3', 'I1']: 4\n",
            "['I3', 'I2']: 4\n",
            "\n",
            "C3:\n",
            "['I3', 'I1', 'I2']: 2\n",
            "\n",
            "L3:\n",
            "\n",
            "Result: \n",
            "L2:\n",
            "['I1', 'I2']: 4\n",
            "['I3', 'I1']: 4\n",
            "['I3', 'I2']: 4\n",
            "\n",
            "['I1'] -> ['I2'] = 66.66666666666666%\n",
            "['I2'] -> ['I1'] = 57.14285714285714%\n",
            "['I2'] -> ['I1'] = 57.14285714285714%\n",
            "['I1'] -> ['I2'] = 66.66666666666666%\n",
            "choosing: 1 4 \n",
            "\n",
            "['I3'] -> ['I1'] = 66.66666666666666%\n",
            "['I1'] -> ['I3'] = 66.66666666666666%\n",
            "['I1'] -> ['I3'] = 66.66666666666666%\n",
            "['I3'] -> ['I1'] = 66.66666666666666%\n",
            "choosing: 1 2 3 4 \n",
            "\n",
            "['I3'] -> ['I2'] = 66.66666666666666%\n",
            "['I2'] -> ['I3'] = 57.14285714285714%\n",
            "['I2'] -> ['I3'] = 57.14285714285714%\n",
            "['I3'] -> ['I2'] = 66.66666666666666%\n",
            "choosing: 1 4 \n",
            "\n"
          ]
        }
      ],
      "source": [
        "data = [\n",
        "        ['T1',['I1','I2','I5']],\n",
        "        ['T2',['I2','I4']],\n",
        "        ['T3',['I2','I3']],\n",
        "        ['T4',['I1','I2','I4']],\n",
        "        ['T5',['I1','I3']],\n",
        "        ['T6',['I2','I3']],\n",
        "        ['T7',['I1','I3']],\n",
        "        ['T8',['I1','I2','I3','I5']],\n",
        "        ['T9',['I1','I2','I3']]\n",
        "        ]\n",
        "\n",
        "# data = [\n",
        "#     ['T1',['I1','I2','I3']],\n",
        "#     ['T2',['I2','I3','I4']],\n",
        "#     ['T3',['I4','I5']],\n",
        "#     ['T4',['I1','I2','I4']],\n",
        "#     ['T5',['I1','I2','I3','I5']],\n",
        "#     ['T6',['I1','I2','I3','I4']]\n",
        "# ]\n",
        "\n",
        "init = []\n",
        "for i in data:\n",
        "    for q in i[1]:\n",
        "        if(q not in init):\n",
        "            init.append(q)\n",
        "init = sorted(init)\n",
        "print(init)\n",
        "sp = 0.6\n",
        "s = int(sp*len(init))\n",
        "s\n",
        "from collections import Counter\n",
        "c = Counter()\n",
        "for i in init:\n",
        "    for d in data:\n",
        "        if(i in d[1]):\n",
        "            c[i]+=1\n",
        "print(\"C1:\")\n",
        "for i in c:\n",
        "    print(str([i])+\": \"+str(c[i]))\n",
        "print()\n",
        "l = Counter()\n",
        "for i in c:\n",
        "    if(c[i] >= s):\n",
        "        l[frozenset([i])]+=c[i]\n",
        "print(\"L1:\")\n",
        "for i in l:\n",
        "    print(str(list(i))+\": \"+str(l[i]))\n",
        "print()\n",
        "pl = l\n",
        "pos = 1\n",
        "for count in range (2,1000):\n",
        "    nc = set()\n",
        "    temp = list(l)\n",
        "    for i in range(0,len(temp)):\n",
        "        for j in range(i+1,len(temp)):\n",
        "            t = temp[i].union(temp[j])\n",
        "            if(len(t) == count):\n",
        "                nc.add(temp[i].union(temp[j]))\n",
        "    nc = list(nc)\n",
        "    c = Counter()\n",
        "    for i in nc:\n",
        "        c[i] = 0\n",
        "        for q in data:\n",
        "            temp = set(q[1])\n",
        "            if(i.issubset(temp)):\n",
        "                c[i]+=1\n",
        "    print(\"C\"+str(count)+\":\")\n",
        "    for i in c:\n",
        "        print(str(list(i))+\": \"+str(c[i]))\n",
        "    print()\n",
        "    l = Counter()\n",
        "    for i in c:\n",
        "        if(c[i] >= s):\n",
        "            l[i]+=c[i]\n",
        "    print(\"L\"+str(count)+\":\")\n",
        "    for i in l:\n",
        "        print(str(list(i))+\": \"+str(l[i]))\n",
        "    print()\n",
        "    if(len(l) == 0):\n",
        "        break\n",
        "    pl = l\n",
        "    pos = count\n",
        "print(\"Result: \")\n",
        "print(\"L\"+str(pos)+\":\")\n",
        "for i in pl:\n",
        "    print(str(list(i))+\": \"+str(pl[i]))\n",
        "print()\n",
        "from itertools import combinations\n",
        "for l in pl:\n",
        "    c = [frozenset(q) for q in combinations(l,len(l)-1)]\n",
        "    mmax = 0\n",
        "    for a in c:\n",
        "        b = l-a\n",
        "        ab = l\n",
        "        sab = 0\n",
        "        sa = 0\n",
        "        sb = 0\n",
        "        for q in data:\n",
        "            temp = set(q[1])\n",
        "            if(a.issubset(temp)):\n",
        "                sa+=1\n",
        "            if(b.issubset(temp)):\n",
        "                sb+=1\n",
        "            if(ab.issubset(temp)):\n",
        "                sab+=1\n",
        "        temp = sab/sa*100\n",
        "        if(temp > mmax):\n",
        "            mmax = temp\n",
        "        temp = sab/sb*100\n",
        "        if(temp > mmax):\n",
        "            mmax = temp\n",
        "        print(str(list(a))+\" -> \"+str(list(b))+\" = \"+str(sab/sa*100)+\"%\")\n",
        "        print(str(list(b))+\" -> \"+str(list(a))+\" = \"+str(sab/sb*100)+\"%\")\n",
        "    curr = 1\n",
        "    print(\"choosing:\", end=' ')\n",
        "    for a in c:\n",
        "        b = l-a\n",
        "        ab = l\n",
        "        sab = 0\n",
        "        sa = 0\n",
        "        sb = 0\n",
        "        for q in data:\n",
        "            temp = set(q[1])\n",
        "            if(a.issubset(temp)):\n",
        "                sa+=1\n",
        "            if(b.issubset(temp)):\n",
        "                sb+=1\n",
        "            if(ab.issubset(temp)):\n",
        "                sab+=1\n",
        "        temp = sab/sa*100\n",
        "        if(temp == mmax):\n",
        "            print(curr, end = ' ')\n",
        "        curr += 1\n",
        "        temp = sab/sb*100\n",
        "        if(temp == mmax):\n",
        "            print(curr, end = ' ')\n",
        "        curr += 1\n",
        "    print()\n",
        "    print()"
      ]
    },
    {
      "cell_type": "code",
      "execution_count": null,
      "metadata": {
        "id": "NpdBnQK_vRxt"
      },
      "outputs": [],
      "source": []
    },
    {
      "cell_type": "code",
      "execution_count": null,
      "metadata": {
        "id": "sjFSedRUvdIp"
      },
      "outputs": [],
      "source": []
    },
    {
      "cell_type": "code",
      "execution_count": null,
      "metadata": {
        "id": "8hEpwrdRvo16"
      },
      "outputs": [],
      "source": []
    },
    {
      "cell_type": "code",
      "execution_count": null,
      "metadata": {
        "id": "JxsnW7831WYT"
      },
      "outputs": [],
      "source": []
    },
    {
      "cell_type": "code",
      "execution_count": null,
      "metadata": {
        "id": "MWzPdNI61XQP"
      },
      "outputs": [],
      "source": []
    },
    {
      "cell_type": "code",
      "execution_count": null,
      "metadata": {
        "id": "_TJAQtQb1XTu"
      },
      "outputs": [],
      "source": []
    },
    {
      "cell_type": "code",
      "execution_count": null,
      "metadata": {
        "id": "357xNfiJ3uBe"
      },
      "outputs": [],
      "source": []
    }
  ],
  "metadata": {
    "colab": {
      "provenance": []
    },
    "kernelspec": {
      "display_name": "Python 3.9.0 64-bit",
      "language": "python",
      "name": "python3"
    },
    "language_info": {
      "codemirror_mode": {
        "name": "ipython",
        "version": 3
      },
      "file_extension": ".py",
      "mimetype": "text/x-python",
      "name": "python",
      "nbconvert_exporter": "python",
      "pygments_lexer": "ipython3",
      "version": "3.9.0"
    },
    "vscode": {
      "interpreter": {
        "hash": "7cca0c2810f4ad6da73a1bc0d1dcf960210615e59fd0c8732ea837112ce6c0c1"
      }
    }
  },
  "nbformat": 4,
  "nbformat_minor": 0
}
